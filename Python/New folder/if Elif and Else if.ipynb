{
 "cells": [
  {
   "cell_type": "code",
   "execution_count": 1,
   "metadata": {},
   "outputs": [
    {
     "name": "stdout",
     "output_type": "stream",
     "text": [
      "Its True\n"
     ]
    }
   ],
   "source": [
    "if True:\n",
    "    print(\"Its True\")"
   ]
  },
  {
   "cell_type": "code",
   "execution_count": 2,
   "metadata": {},
   "outputs": [
    {
     "name": "stdout",
     "output_type": "stream",
     "text": [
      "yes\n"
     ]
    }
   ],
   "source": [
    "if 45 > 34:\n",
    "    print(\"yes\")"
   ]
  },
  {
   "cell_type": "code",
   "execution_count": 5,
   "metadata": {},
   "outputs": [
    {
     "name": "stdout",
     "output_type": "stream",
     "text": [
      "hmm\n"
     ]
    }
   ],
   "source": [
    "HaveAns = True\n",
    "\n",
    "if HaveAns:\n",
    "    print(\"i know ans\")"
   ]
  },
  {
   "cell_type": "code",
   "execution_count": 9,
   "metadata": {},
   "outputs": [
    {
     "name": "stdout",
     "output_type": "stream",
     "text": [
      "i dont know ans\n"
     ]
    }
   ],
   "source": [
    "HaveAns = False\n",
    "\n",
    "if HaveAns:\n",
    "    print(\"i know ans\")\n",
    "else:\n",
    "    print(\"i dont know ans\")"
   ]
  },
  {
   "cell_type": "code",
   "execution_count": 12,
   "metadata": {},
   "outputs": [
    {
     "name": "stdout",
     "output_type": "stream",
     "text": [
      "very bad\n"
     ]
    }
   ],
   "source": [
    "ihave = \"\"\n",
    "\n",
    "if ihave == \"car\":\n",
    "    print(\"Its good you have car\")\n",
    "elif ihave == \"cycle\":\n",
    "    print(\"Its good you have cycle\")\n",
    "elif ihave == \"plan\":\n",
    "    print(\"Its goog you have plan\")\n",
    "else:\n",
    "    print(\"very bad\")\n"
   ]
  },
  {
   "cell_type": "code",
   "execution_count": 13,
   "metadata": {},
   "outputs": [
    {
     "name": "stdout",
     "output_type": "stream",
     "text": [
      "ooo you have dog\n"
     ]
    }
   ],
   "source": [
    "pat = \"dog\"\n",
    "\n",
    "if pat == \"dog\":\n",
    "    print(\"ooo you have dog\")\n",
    "elif pat == \"snake\":\n",
    "    print(\"ooo you have snake\")\n",
    "else:\n",
    "    print(\"you don't like pats\")"
   ]
  },
  {
   "cell_type": "code",
   "execution_count": null,
   "metadata": {},
   "outputs": [],
   "source": []
  }
 ],
 "metadata": {
  "kernelspec": {
   "display_name": "Python 3",
   "language": "python",
   "name": "python3"
  },
  "language_info": {
   "codemirror_mode": {
    "name": "ipython",
    "version": 3
   },
   "file_extension": ".py",
   "mimetype": "text/x-python",
   "name": "python",
   "nbconvert_exporter": "python",
   "pygments_lexer": "ipython3",
   "version": "3.6.4"
  }
 },
 "nbformat": 4,
 "nbformat_minor": 2
}
